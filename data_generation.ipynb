{
 "cells": [
  {
   "cell_type": "code",
   "execution_count": 460,
   "metadata": {},
   "outputs": [],
   "source": [
    "import networkx as nx\n",
    "import numpy as np\n",
    "import random\n",
    "\n",
    "def generate_strongly_connected_tap_graph(n_nodes=20, min_cap=100, max_cap=500, min_t0=1, max_t0=10, demand_pairs=80):\n",
    "    # Шаг 1: Создаём минимальное остовное дерево (MST) в виде неориентированного графа\n",
    "    T = nx.generators.trees.random_tree(n_nodes)\n",
    "    \n",
    "    # Шаг 2: Превращаем в сильно связный направленный граф\n",
    "    G = nx.DiGraph()\n",
    "    for u, v in T.edges():\n",
    "        G.add_edge(u, v)\n",
    "        G.add_edge(v, u)  # Делаем двустороннее ребро для сохранения связности\n",
    "\n",
    "    # Шаг 3: Добавляем случайное количество дополнительных рёбер\n",
    "    min_edges = G.number_of_edges()  # Минимальное число рёбер (остовное дерево)\n",
    "    max_edges = min(n_nodes * (n_nodes - 1), n_nodes * (n_nodes - 1))  # Ограничение сверху\n",
    "    target_edges = random.randint(min_edges, max_edges)  # Случайное число рёбер\n",
    "\n",
    "    while G.number_of_edges() < target_edges:\n",
    "        u, v = np.random.choice(n_nodes, size=2, replace=False)\n",
    "        if not G.has_edge(u, v):\n",
    "            G.add_edge(u, v)\n",
    "\n",
    "    # Шаг 4: Назначаем capacity и t0\n",
    "    for u, v in G.edges():\n",
    "        G[u][v]['capacity'] = random.randint(min_cap, max_cap)\n",
    "        G[u][v]['t0'] = random.uniform(min_t0, max_t0)\n",
    "\n",
    "    # Шаг 5: Генерация demand matrix (случайный спрос между парами узлов)\n",
    "    demand_matrix = np.zeros((n_nodes, n_nodes))\n",
    "    nodes = list(G.nodes())\n",
    "    for _ in range(random.randint((n_nodes ** 2) // 2, n_nodes ** 2)):\n",
    "        src, dst = np.random.choice(nodes, size=2, replace=False)\n",
    "        demand_matrix[(src, dst)] = random.randint(10, 500)  # случайный спрос\n",
    "\n",
    "    # Проверяем, что граф действительно сильно связный\n",
    "    assert nx.is_strongly_connected(G), \"Ошибка: граф не сильно связный!\"\n",
    "\n",
    "    return G, demand_matrix\n",
    "\n",
    "# Пример использования\n",
    "G, demand_matrix = generate_strongly_connected_tap_graph()\n",
    "\n",
    "# Вывод данных\n"
   ]
  },
  {
   "cell_type": "code",
   "execution_count": 461,
   "metadata": {},
   "outputs": [
    {
     "data": {
      "text/plain": [
       "<bound method Graph.adjacency of <networkx.classes.digraph.DiGraph object at 0x0000021A798FA8D0>>"
      ]
     },
     "execution_count": 461,
     "metadata": {},
     "output_type": "execute_result"
    }
   ],
   "source": [
    "G.adjacency"
   ]
  },
  {
   "cell_type": "code",
   "execution_count": 462,
   "metadata": {},
   "outputs": [
    {
     "name": "stdout",
     "output_type": "stream",
     "text": [
      "Capacity matrix:\n",
      " [[  0.   0.   0.   0. 353.   0. 138.   0. 468.   0.   0. 117.   0.   0.\n",
      "  434. 411.   0.   0. 493. 280.]\n",
      " [  0.   0.   0. 168. 347. 102. 437. 459. 158. 153. 389.   0.   0.   0.\n",
      "  332.   0. 226.   0. 424.   0.]\n",
      " [177.   0.   0.   0.   0.   0.   0.   0.   0.   0.   0.   0. 497. 396.\n",
      "  445. 498.   0. 141. 148. 234.]\n",
      " [  0.   0.   0.   0. 266. 412. 359. 407.   0. 333.   0. 314.   0.   0.\n",
      "    0.   0. 406.   0. 410. 350.]\n",
      " [415.   0.   0.   0.   0.   0.   0. 461.   0.   0.   0.   0. 169.   0.\n",
      "    0.   0.   0. 119. 359.   0.]\n",
      " [399. 374. 156.   0. 159.   0.   0. 238.   0.   0. 144. 265.   0. 398.\n",
      "    0. 160.   0.   0. 388. 469.]\n",
      " [185.   0. 101. 487.   0. 371.   0.   0. 428.   0. 155. 266. 472.   0.\n",
      "    0. 180. 351. 465. 112.   0.]\n",
      " [309.   0.   0.   0. 352. 194.   0.   0.   0.   0. 191.   0.   0.   0.\n",
      "  403. 350.   0.   0. 180. 182.]\n",
      " [  0.   0.   0.   0.   0.   0. 105. 112.   0. 207. 487.   0.   0.   0.\n",
      "    0.   0.   0.   0.   0. 211.]\n",
      " [  0.   0.   0. 195.   0. 306. 279. 234. 335.   0. 123.   0. 234. 489.\n",
      "    0.   0.   0.   0.   0. 367.]\n",
      " [  0.   0.   0. 180.   0. 359. 251. 287. 220.   0.   0.   0. 243.   0.\n",
      "    0.   0.   0.   0.   0.   0.]\n",
      " [194. 123.   0.   0. 379. 248. 286.   0.   0.   0. 397.   0.   0.   0.\n",
      "    0.   0.   0. 188. 354.   0.]\n",
      " [  0. 490.   0.   0.   0. 484.   0.   0.   0. 326.   0. 451.   0. 253.\n",
      "    0.   0.   0. 468.   0.   0.]\n",
      " [362. 499. 457.   0. 171.   0. 210. 130.   0. 348.   0.   0.   0.   0.\n",
      "  281. 445. 177.   0.   0. 218.]\n",
      " [419.   0.   0. 437.   0.   0. 363.   0.   0.   0. 302.   0.   0. 489.\n",
      "    0. 373.   0.   0.   0. 160.]\n",
      " [  0. 128. 407.   0.   0.   0.   0.   0.   0.   0.   0. 313.   0.   0.\n",
      "    0.   0.   0. 255.   0.   0.]\n",
      " [207. 117. 171.   0.   0. 357.   0.   0. 139.   0.   0. 307.   0.   0.\n",
      "  293.   0.   0. 482. 320.   0.]\n",
      " [136. 176.   0.   0. 101.   0.   0.   0. 407.   0. 322.   0.   0.   0.\n",
      "    0. 393. 390.   0.   0.   0.]\n",
      " [  0. 276. 477. 400. 215.   0.   0.   0. 465.   0.   0. 314.   0.   0.\n",
      "  373.   0. 186. 361.   0.   0.]\n",
      " [  0.   0.   0.   0. 426. 302.   0. 218. 469.   0. 448. 390. 290.   0.\n",
      "  261.   0. 409.   0.   0.   0.]]\n",
      "t0 matrix:\n",
      " [[0.         0.         0.         0.         8.00786548 0.\n",
      "  6.62678175 0.         8.51167013 0.         0.         1.59122774\n",
      "  0.         0.         4.30049681 7.85112313 0.         0.\n",
      "  5.72510573 9.82052411]\n",
      " [0.         0.         0.         1.9914424  9.89688665 1.02260695\n",
      "  3.84308077 8.92558209 7.4956347  6.84390445 7.52567449 0.\n",
      "  0.         0.         6.35426959 0.         5.92517333 0.\n",
      "  4.05726485 0.        ]\n",
      " [8.06461992 0.         0.         0.         0.         0.\n",
      "  0.         0.         0.         0.         0.         0.\n",
      "  8.34496309 5.90477801 3.90280209 6.60475753 0.         7.47561035\n",
      "  1.20532178 2.87718535]\n",
      " [0.         0.         0.         0.         7.69555529 1.02653005\n",
      "  1.52801035 5.031432   0.         6.43000152 0.         3.52977383\n",
      "  0.         0.         0.         0.         5.30276425 0.\n",
      "  8.17538837 7.10316354]\n",
      " [1.45871994 0.         0.         0.         0.         0.\n",
      "  0.         5.97838376 0.         0.         0.         0.\n",
      "  7.40654953 0.         0.         0.         0.         9.17299575\n",
      "  8.90219396 0.        ]\n",
      " [9.93268952 5.54384662 8.84219555 0.         5.83038208 0.\n",
      "  0.         2.00980787 0.         0.         1.17320972 3.45619961\n",
      "  0.         3.4730027  0.         6.19195342 0.         0.\n",
      "  4.77330298 6.19434137]\n",
      " [9.71902078 0.         4.9403391  2.387512   0.         2.4644776\n",
      "  0.         0.         4.13671651 0.         6.42862716 7.76180186\n",
      "  1.50965204 0.         0.         8.8444341  8.61412169 4.69818502\n",
      "  5.43781202 0.        ]\n",
      " [7.53048549 0.         0.         0.         2.094536   8.65385018\n",
      "  0.         0.         0.         0.         5.53513281 0.\n",
      "  0.         0.         3.44896225 6.51844967 0.         0.\n",
      "  6.30917012 1.23937644]\n",
      " [0.         0.         0.         0.         0.         0.\n",
      "  3.71716799 7.44809645 0.         6.76305805 3.26889006 0.\n",
      "  0.         0.         0.         0.         0.         0.\n",
      "  0.         9.76717368]\n",
      " [0.         0.         0.         9.81231079 0.         8.98776229\n",
      "  1.85779826 8.33414719 1.5974507  0.         9.63257723 0.\n",
      "  7.1526554  8.28069485 0.         0.         0.         0.\n",
      "  0.         9.740375  ]\n",
      " [0.         0.         0.         3.26265666 0.         7.31171463\n",
      "  9.592145   4.93766656 8.33330321 0.         0.         0.\n",
      "  3.17203875 0.         0.         0.         0.         0.\n",
      "  0.         0.        ]\n",
      " [8.37963989 1.71187203 0.         0.         1.30179468 4.49765373\n",
      "  4.29458569 0.         0.         0.         5.56004295 0.\n",
      "  0.         0.         0.         0.         0.         7.62724016\n",
      "  9.34276494 0.        ]\n",
      " [0.         2.6871317  0.         0.         0.         6.97792066\n",
      "  0.         0.         0.         9.07665773 0.         9.41029887\n",
      "  0.         8.34517615 0.         0.         0.         6.31021754\n",
      "  0.         0.        ]\n",
      " [6.50044958 1.74888682 1.72913522 0.         2.79499898 0.\n",
      "  2.91000433 2.70609852 0.         1.35507944 0.         0.\n",
      "  0.         0.         5.84140742 6.32159185 4.85492506 0.\n",
      "  0.         8.95911404]\n",
      " [9.07801937 0.         0.         2.88866213 0.         0.\n",
      "  6.48983409 0.         0.         0.         8.09345498 0.\n",
      "  0.         7.36216631 0.         5.41927837 0.         0.\n",
      "  0.         1.81163789]\n",
      " [0.         3.70334179 8.00774804 0.         0.         0.\n",
      "  0.         0.         0.         0.         0.         6.4527223\n",
      "  0.         0.         0.         0.         0.         2.22752935\n",
      "  0.         0.        ]\n",
      " [3.49237238 2.93236641 6.38201452 0.         0.         1.56643739\n",
      "  0.         0.         6.43411232 0.         0.         8.3486092\n",
      "  0.         0.         5.06218883 0.         0.         6.59339108\n",
      "  3.44289465 0.        ]\n",
      " [5.75994323 8.11074465 0.         0.         2.62946312 0.\n",
      "  0.         0.         4.14870776 0.         3.78868381 0.\n",
      "  0.         0.         0.         7.2901564  8.77156303 0.\n",
      "  0.         0.        ]\n",
      " [0.         6.02699399 1.09485561 7.38655957 6.16373704 0.\n",
      "  0.         0.         1.47131967 0.         0.         9.49943678\n",
      "  0.         0.         1.97112278 0.         9.3476677  5.06831907\n",
      "  0.         0.        ]\n",
      " [0.         0.         0.         0.         7.05686603 8.20283145\n",
      "  0.         3.26196263 7.81002071 0.         8.47944387 3.56103793\n",
      "  9.59742627 0.         2.63152704 0.         4.46275812 0.\n",
      "  0.         0.        ]]\n"
     ]
    }
   ],
   "source": [
    "import numpy as np\n",
    "\n",
    "def get_matrices_from_graph(G):\n",
    "    n = len(G.nodes)\n",
    "    capacity_matrix = np.zeros((n, n))\n",
    "    t0_matrix = np.zeros((n, n))\n",
    "\n",
    "    for u, v, data in G.edges(data=True):\n",
    "        capacity_matrix[u, v] = data['capacity']\n",
    "        t0_matrix[u, v] = data['t0']\n",
    "\n",
    "    return capacity_matrix, t0_matrix\n",
    "\n",
    "# Получаем матрицы\n",
    "capacity_matrix, t0_matrix = get_matrices_from_graph(G)\n",
    "\n",
    "# Вывод примера\n",
    "print(\"Capacity matrix:\\n\", capacity_matrix)\n",
    "print(\"t0 matrix:\\n\", t0_matrix)"
   ]
  },
  {
   "cell_type": "code",
   "execution_count": 463,
   "metadata": {},
   "outputs": [
    {
     "data": {
      "text/plain": [
       "array([[  0., 117., 385., 284.,   0., 369., 119., 470., 131., 106.,   0.,\n",
       "        480.,   0.,  23., 278.,   0., 221.,   0., 463.,   0.],\n",
       "       [  0.,   0., 120., 336., 118.,   0.,   0.,   0.,   0.,   0., 416.,\n",
       "          0.,   0., 486.,   0.,   0., 446.,  69.,   0., 495.],\n",
       "       [245.,  87.,   0., 428.,  66., 313.,   0., 354.,   0.,  87.,   0.,\n",
       "        209.,  90.,   0.,  48.,   0., 480., 360., 300.,   0.],\n",
       "       [411.,   0., 221.,   0.,   0., 375.,   0., 125., 455.,   0.,   0.,\n",
       "          0., 100.,  92.,   0., 298.,   0., 403., 133.,   0.],\n",
       "       [  0., 418., 269., 313.,   0., 424.,   0.,   0.,  94., 458.,   0.,\n",
       "          0.,  93.,   0.,  85., 408., 456., 315.,   0.,   0.],\n",
       "       [175., 353., 301.,  24., 356.,   0.,   0.,   0., 499.,   0.,   0.,\n",
       "          0., 158.,   0., 253., 160., 216.,   0., 213.,   0.],\n",
       "       [335.,  81.,   0.,   0., 196., 129.,   0., 401.,   0., 266.,   0.,\n",
       "        277.,   0.,   0.,   0., 453., 224., 433., 332.,   0.],\n",
       "       [  0., 198.,   0.,  68., 447.,   0.,   0.,   0., 459., 117., 419.,\n",
       "        233., 381., 257.,   0., 204.,   0., 132., 275.,   0.],\n",
       "       [304., 455., 278., 364.,   0.,   0., 496.,   0.,   0., 148.,   0.,\n",
       "        463.,   0.,   0., 203.,   0.,   0.,   0.,   0.,   0.],\n",
       "       [123., 432., 111.,  96., 217.,   0., 193., 407., 206.,   0., 306.,\n",
       "        472., 372.,   0.,   0., 417., 122.,   0.,   0.,  56.],\n",
       "       [  0.,  70., 430.,   0., 499., 500.,   0., 211.,   0.,   0.,   0.,\n",
       "          0.,   0.,   0., 142., 191.,  39., 465.,   0., 493.],\n",
       "       [ 67.,   0.,   0.,  20., 487.,   0.,   0.,   0.,   0., 400.,  31.,\n",
       "          0., 247.,  24.,   0., 394.,   0., 392.,   0.,  92.],\n",
       "       [388.,   0.,  84., 324.,   0., 316., 367., 143., 296., 364., 124.,\n",
       "        491.,   0., 221., 150., 291.,   0.,   0.,   0., 113.],\n",
       "       [  0., 218., 342., 496., 336.,   0., 267.,   0., 117.,   0., 463.,\n",
       "        262.,   0.,   0., 373., 264., 386.,   0.,   0., 333.],\n",
       "       [346.,  98.,   0., 139.,   0.,   0.,   0.,   0.,   0.,  51.,  37.,\n",
       "          0., 152.,   0.,   0.,   0.,   0.,   0.,   0., 236.],\n",
       "       [  0.,   0.,   0.,   0., 229.,  94.,   0.,   0.,   0.,  44.,   0.,\n",
       "        445.,  34., 227.,   0.,   0., 321.,   0.,  64., 476.],\n",
       "       [  0., 190., 297., 369.,   0.,   0.,   0.,  66., 438.,   0., 454.,\n",
       "         13., 391., 278., 197., 393.,   0., 136.,   0., 173.],\n",
       "       [187.,   0., 336., 250.,   0., 202.,   0.,   0.,   0.,   0., 124.,\n",
       "          0.,   0.,   0.,  39.,  15.,   0.,   0., 332.,   0.],\n",
       "       [ 87.,   0.,   0., 360., 490., 265., 200.,   0.,  71.,   0., 405.,\n",
       "          0.,   0., 277., 197.,   0., 460.,   0.,   0., 307.],\n",
       "       [371.,   0.,   0., 467.,   0.,   0.,   0., 439.,   0., 435.,   0.,\n",
       "        103.,   0., 314., 169., 250., 465., 460., 270.,   0.]])"
      ]
     },
     "execution_count": 463,
     "metadata": {},
     "output_type": "execute_result"
    }
   ],
   "source": [
    "demand_matrix"
   ]
  },
  {
   "cell_type": "code",
   "execution_count": 1,
   "metadata": {},
   "outputs": [
    {
     "name": "stderr",
     "output_type": "stream",
     "text": [
      "c:\\py\\Lib\\site-packages\\tqdm\\auto.py:21: TqdmWarning: IProgress not found. Please update jupyter and ipywidgets. See https://ipywidgets.readthedocs.io/en/stable/user_install.html\n",
      "  from .autonotebook import tqdm as notebook_tqdm\n",
      "  0%|          | 0/10000 [00:00<?, ?it/s]d:\\projects\\src\\leblanc.py:13: RuntimeWarning: invalid value encountered in divide\n",
      "  T_1 = T_0 * (1 + 0.15 * (X_1 / C)**4)\n",
      "d:\\projects\\src\\leblanc.py:18: RuntimeWarning: divide by zero encountered in divide\n",
      "  C_calc = 1 / (C**4)\n",
      "d:\\projects\\src\\leblanc.py:36: RuntimeWarning: divide by zero encountered in divide\n",
      "  dif_val = (X_2 - X_1) / X_1\n",
      "d:\\projects\\src\\leblanc.py:36: RuntimeWarning: invalid value encountered in divide\n",
      "  dif_val = (X_2 - X_1) / X_1\n",
      "100%|██████████| 10000/10000 [1:26:53<00:00,  1.92it/s]\n"
     ]
    }
   ],
   "source": [
    "from utility import generate_alike_data_C\n",
    "\n",
    "\n",
    "generate_alike_data_C('siouxfalls/net.tntp', 'siouxfalls/trips.tntp', 10000, 1, 0.5, 'data/data_sioux_c.csv')"
   ]
  },
  {
   "cell_type": "code",
   "execution_count": 1,
   "metadata": {},
   "outputs": [
    {
     "name": "stderr",
     "output_type": "stream",
     "text": [
      "c:\\py\\Lib\\site-packages\\tqdm\\auto.py:21: TqdmWarning: IProgress not found. Please update jupyter and ipywidgets. See https://ipywidgets.readthedocs.io/en/stable/user_install.html\n",
      "  from .autonotebook import tqdm as notebook_tqdm\n",
      "  0%|          | 0/10 [00:00<?, ?it/s]d:\\projects\\src\\leblanc.py:13: RuntimeWarning: invalid value encountered in divide\n",
      "  T_1 = T_0 * (1 + 0.15 * (X_1 / C)**4)\n",
      "d:\\projects\\src\\leblanc.py:18: RuntimeWarning: divide by zero encountered in divide\n",
      "  C_calc = 1 / (C**4)\n",
      "d:\\projects\\src\\leblanc.py:36: RuntimeWarning: divide by zero encountered in divide\n",
      "  dif_val = (X_2 - X_1) / X_1\n",
      "d:\\projects\\src\\leblanc.py:36: RuntimeWarning: invalid value encountered in divide\n",
      "  dif_val = (X_2 - X_1) / X_1\n",
      "100%|██████████| 10/10 [00:00<00:00, 12.24it/s]\n"
     ]
    }
   ],
   "source": [
    "from utility import generate_alike_data_num_od_pairs as gen\n",
    "\n",
    "gen('siouxfalls/net.tntp', 'siouxfalls/trips.tntp', 10, 1.5, 0.5, 1, 0.5, 'data_sioux_5pairs_test.csv', 5)"
   ]
  },
  {
   "cell_type": "code",
   "execution_count": 4,
   "metadata": {},
   "outputs": [
    {
     "name": "stdout",
     "output_type": "stream",
     "text": [
      "   nonzero_count\n",
      "0              5\n",
      "1              5\n",
      "2              5\n",
      "3              5\n",
      "4              5\n"
     ]
    }
   ],
   "source": [
    "import pandas as pd\n",
    "\n",
    "df = pd.read_csv('data_sioux_5pairs_test.csv')\n",
    "\n",
    "# Загружаем данные (замени на свой путь или способ получения DataFrame)\n",
    "\n",
    "# Выбираем столбцы d_1...d_576\n",
    "d_columns = [f\"D_{i}\" for i in range(0, 576)]\n",
    "\n",
    "# Считаем количество ненулевых значений в каждой строке\n",
    "df[\"nonzero_count\"] = (df[d_columns] != 0).sum(axis=1)\n",
    "\n",
    "# Выводим первые строки с результатом\n",
    "print(df[[\"nonzero_count\"]].head())\n",
    " "
   ]
  },
  {
   "cell_type": "code",
   "execution_count": 5,
   "metadata": {},
   "outputs": [
    {
     "name": "stderr",
     "output_type": "stream",
     "text": [
      "  0%|          | 0/10000 [00:00<?, ?it/s]d:\\projects\\src\\leblanc.py:13: RuntimeWarning: invalid value encountered in divide\n",
      "  T_1 = T_0 * (1 + 0.15 * (X_1 / C)**4)\n",
      "d:\\projects\\src\\leblanc.py:18: RuntimeWarning: divide by zero encountered in divide\n",
      "  C_calc = 1 / (C**4)\n",
      "d:\\projects\\src\\leblanc.py:36: RuntimeWarning: divide by zero encountered in divide\n",
      "  dif_val = (X_2 - X_1) / X_1\n",
      "d:\\projects\\src\\leblanc.py:36: RuntimeWarning: invalid value encountered in divide\n",
      "  dif_val = (X_2 - X_1) / X_1\n",
      "100%|██████████| 10000/10000 [1:20:52<00:00,  2.06it/s]\n"
     ]
    }
   ],
   "source": [
    "from utility import generate_alike_data as gen\n",
    "\n",
    "gen('siouxfalls/net.tntp', 'siouxfalls/trips.tntp', 10000, 1.5, 0.5, 1, 1, 'data/data_sioux_d.csv')"
   ]
  },
  {
   "cell_type": "code",
   "execution_count": 1,
   "metadata": {},
   "outputs": [
    {
     "name": "stderr",
     "output_type": "stream",
     "text": [
      "c:\\py\\Lib\\site-packages\\tqdm\\auto.py:21: TqdmWarning: IProgress not found. Please update jupyter and ipywidgets. See https://ipywidgets.readthedocs.io/en/stable/user_install.html\n",
      "  from .autonotebook import tqdm as notebook_tqdm\n",
      "  0%|          | 0/10000 [00:00<?, ?it/s]d:\\projects\\src\\leblanc.py:13: RuntimeWarning: invalid value encountered in divide\n",
      "  T_1 = T_0 * (1 + 0.15 * (X_1 / C)**4)\n",
      "d:\\projects\\src\\leblanc.py:18: RuntimeWarning: divide by zero encountered in divide\n",
      "  C_calc = 1 / (C**4)\n",
      "d:\\projects\\src\\leblanc.py:36: RuntimeWarning: invalid value encountered in divide\n",
      "  dif_val = (X_2 - X_1) / X_1\n",
      "100%|██████████| 10000/10000 [13:42<00:00, 12.16it/s]\n"
     ]
    }
   ],
   "source": [
    "from utility import generate_alike_data_num_od_pairs as gen\n",
    "\n",
    "gen('siouxfalls/net.tntp', 'siouxfalls/trips.tntp', 10000, 1.5, 0.5, 1, 0.5, 'data_sioux_5pairs_test.csv', 5)"
   ]
  },
  {
   "cell_type": "code",
   "execution_count": 3,
   "metadata": {},
   "outputs": [
    {
     "name": "stderr",
     "output_type": "stream",
     "text": [
      "  0%|          | 0/10000 [00:00<?, ?it/s]d:\\projects\\src\\leblanc.py:13: RuntimeWarning: invalid value encountered in divide\n",
      "  T_1 = T_0 * (1 + 0.15 * (X_1 / C)**4)\n",
      "d:\\projects\\src\\leblanc.py:18: RuntimeWarning: divide by zero encountered in divide\n",
      "  C_calc = 1 / (C**4)\n",
      "d:\\projects\\src\\leblanc.py:36: RuntimeWarning: divide by zero encountered in divide\n",
      "  dif_val = (X_2 - X_1) / X_1\n",
      "d:\\projects\\src\\leblanc.py:36: RuntimeWarning: invalid value encountered in divide\n",
      "  dif_val = (X_2 - X_1) / X_1\n",
      "100%|██████████| 10000/10000 [1:12:36<00:00,  2.30it/s]\n"
     ]
    }
   ],
   "source": [
    "from utility import generate_alike_data_num_od_pairs as gen\n",
    "\n",
    "gen('siouxfalls/net.tntp', 'siouxfalls/trips.tntp', 10000, 1.5, 0.5, 1, 0.5, 'data/data_sioux_100pairs.csv', 100)"
   ]
  },
  {
   "cell_type": "code",
   "execution_count": 3,
   "metadata": {},
   "outputs": [
    {
     "name": "stderr",
     "output_type": "stream",
     "text": [
      "  0%|          | 0/10000 [00:00<?, ?it/s]d:\\projects\\src\\leblanc.py:13: RuntimeWarning: invalid value encountered in divide\n",
      "  T_1 = T_0 * (1 + 0.15 * (X_1 / C)**4)\n",
      "d:\\projects\\src\\leblanc.py:18: RuntimeWarning: divide by zero encountered in divide\n",
      "  C_calc = 1 / (C**4)\n",
      "d:\\projects\\src\\leblanc.py:36: RuntimeWarning: divide by zero encountered in divide\n",
      "  dif_val = (X_2 - X_1) / X_1\n",
      "d:\\projects\\src\\leblanc.py:36: RuntimeWarning: invalid value encountered in divide\n",
      "  dif_val = (X_2 - X_1) / X_1\n",
      "  0%|          | 11/10000 [00:05<1:24:02,  1.98it/s]\n"
     ]
    },
    {
     "ename": "KeyboardInterrupt",
     "evalue": "",
     "output_type": "error",
     "traceback": [
      "\u001b[1;31m---------------------------------------------------------------------------\u001b[0m",
      "\u001b[1;31mKeyboardInterrupt\u001b[0m                         Traceback (most recent call last)",
      "Cell \u001b[1;32mIn[3], line 3\u001b[0m\n\u001b[0;32m      1\u001b[0m \u001b[38;5;28;01mfrom\u001b[39;00m \u001b[38;5;21;01mutility\u001b[39;00m \u001b[38;5;28;01mimport\u001b[39;00m generate_alike_data_num_od_pairs \u001b[38;5;28;01mas\u001b[39;00m gen\n\u001b[1;32m----> 3\u001b[0m \u001b[43mgen\u001b[49m\u001b[43m(\u001b[49m\u001b[38;5;124;43m'\u001b[39;49m\u001b[38;5;124;43msiouxfalls/net.tntp\u001b[39;49m\u001b[38;5;124;43m'\u001b[39;49m\u001b[43m,\u001b[49m\u001b[43m \u001b[49m\u001b[38;5;124;43m'\u001b[39;49m\u001b[38;5;124;43msiouxfalls/trips.tntp\u001b[39;49m\u001b[38;5;124;43m'\u001b[39;49m\u001b[43m,\u001b[49m\u001b[43m \u001b[49m\u001b[38;5;241;43m10000\u001b[39;49m\u001b[43m,\u001b[49m\u001b[43m \u001b[49m\u001b[38;5;241;43m1.5\u001b[39;49m\u001b[43m,\u001b[49m\u001b[43m \u001b[49m\u001b[38;5;241;43m0.5\u001b[39;49m\u001b[43m,\u001b[49m\u001b[43m \u001b[49m\u001b[38;5;241;43m1\u001b[39;49m\u001b[43m,\u001b[49m\u001b[43m \u001b[49m\u001b[38;5;241;43m0.5\u001b[39;49m\u001b[43m,\u001b[49m\u001b[43m \u001b[49m\u001b[38;5;124;43m'\u001b[39;49m\u001b[38;5;124;43mdata/data_sioux_576pairs.csv\u001b[39;49m\u001b[38;5;124;43m'\u001b[39;49m\u001b[43m,\u001b[49m\u001b[43m \u001b[49m\u001b[38;5;241;43m576\u001b[39;49m\u001b[38;5;241;43m-\u001b[39;49m\u001b[38;5;241;43m24\u001b[39;49m\u001b[43m,\u001b[49m\u001b[43m \u001b[49m\u001b[43mfixed\u001b[49m\u001b[38;5;241;43m=\u001b[39;49m\u001b[38;5;28;43;01mTrue\u001b[39;49;00m\u001b[43m)\u001b[49m\n",
      "File \u001b[1;32md:\\projects\\src\\utility.py:442\u001b[0m, in \u001b[0;36mgenerate_alike_data_num_od_pairs\u001b[1;34m(net_path, trips_path, n_samples, cap_max, cap_min, demand_max, demand_min, filename, od_pairs, fixed, eps)\u001b[0m\n\u001b[0;32m    439\u001b[0m \u001b[38;5;28;01mfor\u001b[39;00m (i, j) \u001b[38;5;129;01min\u001b[39;00m selected_od_pairs:\n\u001b[0;32m    440\u001b[0m     d_filtered[i, j] \u001b[38;5;241m=\u001b[39m d_sample[i, j]\n\u001b[1;32m--> 442\u001b[0m flow_vector, iterations, function_value \u001b[38;5;241m=\u001b[39m \u001b[43mleblanc_3\u001b[49m\u001b[43m(\u001b[49m\u001b[43mt_0_matrix\u001b[49m\u001b[43m,\u001b[49m\u001b[43m \u001b[49m\u001b[43md_filtered\u001b[49m\u001b[43m,\u001b[49m\u001b[43m \u001b[49m\u001b[43mc_sample\u001b[49m\u001b[43m,\u001b[49m\u001b[43m \u001b[49m\u001b[43meps\u001b[49m\u001b[43m)\u001b[49m\n\u001b[0;32m    444\u001b[0m sample \u001b[38;5;241m=\u001b[39m {\n\u001b[0;32m    445\u001b[0m     \u001b[38;5;124m'\u001b[39m\u001b[38;5;124mT_0\u001b[39m\u001b[38;5;124m'\u001b[39m: t_0_matrix\u001b[38;5;241m.\u001b[39mflatten(),\n\u001b[0;32m    446\u001b[0m     \u001b[38;5;124m'\u001b[39m\u001b[38;5;124mD\u001b[39m\u001b[38;5;124m'\u001b[39m: d_filtered\u001b[38;5;241m.\u001b[39mflatten(),\n\u001b[0;32m    447\u001b[0m     \u001b[38;5;124m'\u001b[39m\u001b[38;5;124mC\u001b[39m\u001b[38;5;124m'\u001b[39m: c_sample\u001b[38;5;241m.\u001b[39mflatten(),\n\u001b[0;32m    448\u001b[0m     \u001b[38;5;124m'\u001b[39m\u001b[38;5;124mflow_vector\u001b[39m\u001b[38;5;124m'\u001b[39m: flow_vector\u001b[38;5;241m.\u001b[39mflatten()\n\u001b[0;32m    449\u001b[0m }\n\u001b[0;32m    450\u001b[0m dataset\u001b[38;5;241m.\u001b[39mappend(sample)\n",
      "File \u001b[1;32md:\\projects\\src\\leblanc.py:19\u001b[0m, in \u001b[0;36mleblanc_3\u001b[1;34m(T_0, D, C, e)\u001b[0m\n\u001b[0;32m     17\u001b[0m Y_1 \u001b[38;5;241m=\u001b[39m get_flow_vector(G_1, n, D)\n\u001b[0;32m     18\u001b[0m C_calc \u001b[38;5;241m=\u001b[39m \u001b[38;5;241m1\u001b[39m \u001b[38;5;241m/\u001b[39m (C\u001b[38;5;241m*\u001b[39m\u001b[38;5;241m*\u001b[39m\u001b[38;5;241m4\u001b[39m)\n\u001b[1;32m---> 19\u001b[0m C_calc[\u001b[43mnp\u001b[49m\u001b[38;5;241;43m.\u001b[39;49m\u001b[43misinf\u001b[49m\u001b[43m(\u001b[49m\u001b[43mC_calc\u001b[49m\u001b[43m)\u001b[49m] \u001b[38;5;241m=\u001b[39m \u001b[38;5;241m0\u001b[39m\n\u001b[0;32m     21\u001b[0m h \u001b[38;5;241m=\u001b[39m \u001b[38;5;241m0.001\u001b[39m\n\u001b[0;32m     22\u001b[0m l_values \u001b[38;5;241m=\u001b[39m np\u001b[38;5;241m.\u001b[39marange(\u001b[38;5;241m0\u001b[39m, \u001b[38;5;241m1\u001b[39m \u001b[38;5;241m+\u001b[39m h, h)\n",
      "\u001b[1;31mKeyboardInterrupt\u001b[0m: "
     ]
    }
   ],
   "source": [
    "from utility import generate_alike_data_num_od_pairs as gen\n",
    "    \n",
    "gen('siouxfalls/net.tntp', 'siouxfalls/trips.tntp', 10000, 1.5, 0.5, 1, 0.5, 'data/data_sioux_576pairs.csv', 576-24, fixed=True)"
   ]
  },
  {
   "cell_type": "code",
   "execution_count": 3,
   "metadata": {},
   "outputs": [
    {
     "name": "stderr",
     "output_type": "stream",
     "text": [
      "10000it [1:12:31,  2.30it/s]\n"
     ]
    }
   ],
   "source": [
    "import warnings\n",
    "warnings.filterwarnings(\"ignore\", category=RuntimeWarning)\n",
    "from utility import generate_n_pairs\n",
    "generate_n_pairs('data/data_sioux.csv', 80, 'data/data_sioux_80_2.csv')"
   ]
  },
  {
   "cell_type": "code",
   "execution_count": 5,
   "metadata": {},
   "outputs": [
    {
     "name": "stdout",
     "output_type": "stream",
     "text": [
      "Доступен CUDA GPU\n",
      "Количество GPU: 1\n",
      "[0] NVIDIA GeForce RTX 3050 Laptop GPU\n",
      "  Выделено памяти: 0.00 MB\n",
      "  Зарезервировано памяти: 0.00 MB\n"
     ]
    }
   ],
   "source": [
    "import torch\n",
    "\n",
    "if torch.cuda.is_available():\n",
    "    print(\"Доступен CUDA GPU\")\n",
    "    print(f\"Количество GPU: {torch.cuda.device_count()}\")\n",
    "    for i in range(torch.cuda.device_count()):\n",
    "        print(f\"[{i}] {torch.cuda.get_device_name(i)}\")\n",
    "        print(f\"  Выделено памяти: {torch.cuda.memory_allocated(i) / 1024 ** 2:.2f} MB\")\n",
    "        print(f\"  Зарезервировано памяти: {torch.cuda.memory_reserved(i) / 1024 ** 2:.2f} MB\")\n",
    "else:\n",
    "    print(\"GPU не найден, используется CPU\")"
   ]
  }
 ],
 "metadata": {
  "kernelspec": {
   "display_name": "Python 3",
   "language": "python",
   "name": "python3"
  },
  "language_info": {
   "codemirror_mode": {
    "name": "ipython",
    "version": 3
   },
   "file_extension": ".py",
   "mimetype": "text/x-python",
   "name": "python",
   "nbconvert_exporter": "python",
   "pygments_lexer": "ipython3",
   "version": "3.12.2"
  }
 },
 "nbformat": 4,
 "nbformat_minor": 2
}
